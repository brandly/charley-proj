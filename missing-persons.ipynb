{
 "cells": [
  {
   "cell_type": "code",
   "execution_count": 68,
   "metadata": {},
   "outputs": [],
   "source": [
    "import pandas as pd\n",
    "%matplotlib inline"
   ]
  },
  {
   "cell_type": "code",
   "execution_count": 69,
   "metadata": {},
   "outputs": [],
   "source": [
    "details = pd.read_csv('./details.tsv', delimiter='\\t')"
   ]
  },
  {
   "cell_type": "code",
   "execution_count": 70,
   "metadata": {},
   "outputs": [
    {
     "data": {
      "text/html": [
       "<div>\n",
       "<style scoped>\n",
       "    .dataframe tbody tr th:only-of-type {\n",
       "        vertical-align: middle;\n",
       "    }\n",
       "\n",
       "    .dataframe tbody tr th {\n",
       "        vertical-align: top;\n",
       "    }\n",
       "\n",
       "    .dataframe thead th {\n",
       "        text-align: right;\n",
       "    }\n",
       "</style>\n",
       "<table border=\"1\" class=\"dataframe\">\n",
       "  <thead>\n",
       "    <tr style=\"text-align: right;\">\n",
       "      <th></th>\n",
       "      <th>Missing Since</th>\n",
       "      <th>Missing From</th>\n",
       "      <th>Classification</th>\n",
       "      <th>Date of Birth</th>\n",
       "      <th>Age</th>\n",
       "      <th>Height</th>\n",
       "      <th>Weight</th>\n",
       "      <th>Clothing/Jewelry Description</th>\n",
       "      <th>Distinguishing Characteristics</th>\n",
       "      <th>Medical Conditions</th>\n",
       "    </tr>\n",
       "  </thead>\n",
       "  <tbody>\n",
       "    <tr>\n",
       "      <th>11672</th>\n",
       "      <td>1989-11-01</td>\n",
       "      <td>Colorado Springs, Colorado</td>\n",
       "      <td>Endangered Missing</td>\n",
       "      <td>02/22/1927 (91)</td>\n",
       "      <td>62 years old</td>\n",
       "      <td>5'8</td>\n",
       "      <td>135 pounds</td>\n",
       "      <td>NaN</td>\n",
       "      <td>Caucasian male. Blond hair, blue eyes.</td>\n",
       "      <td>Zook is an alcoholic.</td>\n",
       "    </tr>\n",
       "    <tr>\n",
       "      <th>11673</th>\n",
       "      <td>2008-01-31</td>\n",
       "      <td>McKinney, Texas</td>\n",
       "      <td>Missing</td>\n",
       "      <td>01/08/1973 (46)</td>\n",
       "      <td>35 years old</td>\n",
       "      <td>5'6 - 5'8</td>\n",
       "      <td>140 - 150 pounds</td>\n",
       "      <td>NaN</td>\n",
       "      <td>Hispanic male. Black hair, brown eyes.</td>\n",
       "      <td>NaN</td>\n",
       "    </tr>\n",
       "    <tr>\n",
       "      <th>11674</th>\n",
       "      <td>2016-08-09</td>\n",
       "      <td>Stockton, California</td>\n",
       "      <td>Endangered Missing</td>\n",
       "      <td>05/22/1976 (42)</td>\n",
       "      <td>40 years old</td>\n",
       "      <td>5'7</td>\n",
       "      <td>140 pounds</td>\n",
       "      <td>NaN</td>\n",
       "      <td>Hispanic male. Black hair, brown eyes. Zuniga ...</td>\n",
       "      <td>Zuniga has a history of mental illness.</td>\n",
       "    </tr>\n",
       "    <tr>\n",
       "      <th>11675</th>\n",
       "      <td>2016-12-25</td>\n",
       "      <td>Yonkers, New York</td>\n",
       "      <td>Endangered Runaway</td>\n",
       "      <td>01/06/2001 (18)</td>\n",
       "      <td>15 years old</td>\n",
       "      <td>5'7</td>\n",
       "      <td>140 pounds</td>\n",
       "      <td>NaN</td>\n",
       "      <td>Hispanic male. Black hair, brown eyes.</td>\n",
       "      <td>NaN</td>\n",
       "    </tr>\n",
       "    <tr>\n",
       "      <th>11676</th>\n",
       "      <td>1991-03-10</td>\n",
       "      <td>Riverside, California</td>\n",
       "      <td>Lost/Injured Missing</td>\n",
       "      <td>01/06/1988 (31)</td>\n",
       "      <td>3 years old</td>\n",
       "      <td>3'0</td>\n",
       "      <td>35 pounds</td>\n",
       "      <td>A red sweatshirt, blue jeans, gray socks, whit...</td>\n",
       "      <td>Caucasian male. Brown hair, brown eyes.</td>\n",
       "      <td>NaN</td>\n",
       "    </tr>\n",
       "  </tbody>\n",
       "</table>\n",
       "</div>"
      ],
      "text/plain": [
       "      Missing Since                Missing From        Classification  \\\n",
       "11672    1989-11-01  Colorado Springs, Colorado    Endangered Missing   \n",
       "11673    2008-01-31             McKinney, Texas               Missing   \n",
       "11674    2016-08-09        Stockton, California    Endangered Missing   \n",
       "11675    2016-12-25           Yonkers, New York    Endangered Runaway   \n",
       "11676    1991-03-10       Riverside, California  Lost/Injured Missing   \n",
       "\n",
       "         Date of Birth           Age     Height            Weight  \\\n",
       "11672  02/22/1927 (91)  62 years old        5'8        135 pounds   \n",
       "11673  01/08/1973 (46)  35 years old  5'6 - 5'8  140 - 150 pounds   \n",
       "11674  05/22/1976 (42)  40 years old        5'7        140 pounds   \n",
       "11675  01/06/2001 (18)  15 years old        5'7        140 pounds   \n",
       "11676  01/06/1988 (31)   3 years old        3'0         35 pounds   \n",
       "\n",
       "                            Clothing/Jewelry Description  \\\n",
       "11672                                                NaN   \n",
       "11673                                                NaN   \n",
       "11674                                                NaN   \n",
       "11675                                                NaN   \n",
       "11676  A red sweatshirt, blue jeans, gray socks, whit...   \n",
       "\n",
       "                          Distinguishing Characteristics  \\\n",
       "11672             Caucasian male. Blond hair, blue eyes.   \n",
       "11673             Hispanic male. Black hair, brown eyes.   \n",
       "11674  Hispanic male. Black hair, brown eyes. Zuniga ...   \n",
       "11675             Hispanic male. Black hair, brown eyes.   \n",
       "11676            Caucasian male. Brown hair, brown eyes.   \n",
       "\n",
       "                            Medical Conditions  \n",
       "11672                    Zook is an alcoholic.  \n",
       "11673                                      NaN  \n",
       "11674  Zuniga has a history of mental illness.  \n",
       "11675                                      NaN  \n",
       "11676                                      NaN  "
      ]
     },
     "execution_count": 70,
     "metadata": {},
     "output_type": "execute_result"
    }
   ],
   "source": [
    "details['Missing Since'] = pd.to_datetime(details['Missing Since'])\n",
    "details.set_index('Missing Since')\n",
    "details.tail()"
   ]
  },
  {
   "cell_type": "code",
   "execution_count": 71,
   "metadata": {},
   "outputs": [],
   "source": [
    "per_year = details.groupby(details['Missing Since'].dt.year).size()"
   ]
  },
  {
   "cell_type": "code",
   "execution_count": 72,
   "metadata": {},
   "outputs": [
    {
     "data": {
      "text/plain": [
       "<matplotlib.axes._subplots.AxesSubplot at 0x10bd149b0>"
      ]
     },
     "execution_count": 72,
     "metadata": {},
     "output_type": "execute_result"
    },
    {
     "data": {
      "image/png": "[encoded data removed]",
      "text/plain": [
       "<Figure size 1152x432 with 1 Axes>"
      ]
     },
     "metadata": {},
     "output_type": "display_data"
    }
   ],
   "source": [
    "pd.DataFrame(per_year).plot(kind='bar', figsize=(16, 6))"
   ]
  },
  {
   "cell_type": "code",
   "execution_count": null,
   "metadata": {},
   "outputs": [],
   "source": []
  }
 ],
 "metadata": {
  "kernelspec": {
   "display_name": "Python 3",
   "language": "python",
   "name": "python3"
  },
  "language_info": {
   "codemirror_mode": {
    "name": "ipython",
    "version": 3
   },
   "file_extension": ".py",
   "mimetype": "text/x-python",
   "name": "python",
   "nbconvert_exporter": "python",
   "pygments_lexer": "ipython3",
   "version": "3.6.5"
  }
 },
 "nbformat": 4,
 "nbformat_minor": 2
}
